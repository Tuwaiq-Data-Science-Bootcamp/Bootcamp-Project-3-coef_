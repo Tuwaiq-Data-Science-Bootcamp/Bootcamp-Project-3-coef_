{
 "cells": [
  {
   "cell_type": "code",
   "execution_count": 58,
   "id": "2e907560",
   "metadata": {},
   "outputs": [],
   "source": [
    "import numpy as np\n",
    "import pandas as pd\n",
    "import seaborn as sns\n",
    "import matplotlib.pyplot as plt\n",
    "import warnings\n",
    "warnings.filterwarnings(\"ignore\")"
   ]
  },
  {
   "cell_type": "code",
   "execution_count": 59,
   "id": "33a8cc60",
   "metadata": {},
   "outputs": [],
   "source": [
    "df= pd.read_csv('mobileprice.csv')"
   ]
  },
  {
   "cell_type": "code",
   "execution_count": 60,
   "id": "5307df3e",
   "metadata": {},
   "outputs": [],
   "source": [
    "from sklearn.model_selection import train_test_split\n",
    "X_train1, X_test1, y_train, y_test= train_test_split(x_ram,y_var,train_size=0.7,random_state=2)"
   ]
  },
  {
   "cell_type": "code",
   "execution_count": 61,
   "id": "d060e46b",
   "metadata": {},
   "outputs": [],
   "source": [
    "from sklearn import linear_model\n",
    "lin = linear_model.LinearRegression()"
   ]
  },
  {
   "cell_type": "code",
   "execution_count": 62,
   "id": "0bf437b5",
   "metadata": {},
   "outputs": [
    {
     "data": {
      "text/plain": [
       "LinearRegression()"
      ]
     },
     "execution_count": 62,
     "metadata": {},
     "output_type": "execute_result"
    }
   ],
   "source": [
    "lin.fit(X_train1, y_train)"
   ]
  },
  {
   "cell_type": "code",
   "execution_count": 63,
   "id": "dfeddd06",
   "metadata": {},
   "outputs": [],
   "source": [
    "pred = lin.predict(X_test1)"
   ]
  },
  {
   "cell_type": "code",
   "execution_count": 68,
   "id": "0356ed2d",
   "metadata": {},
   "outputs": [
    {
     "data": {
      "text/plain": [
       "array([0.        , 0.00095524])"
      ]
     },
     "execution_count": 68,
     "metadata": {},
     "output_type": "execute_result"
    }
   ],
   "source": [
    "# The Cofficient\n",
    "coef = lin.coef_\n",
    "coef"
   ]
  },
  {
   "cell_type": "code",
   "execution_count": 65,
   "id": "ed326381",
   "metadata": {},
   "outputs": [
    {
     "data": {
      "text/plain": [
       "0.17718041946306193"
      ]
     },
     "execution_count": 65,
     "metadata": {},
     "output_type": "execute_result"
    }
   ],
   "source": [
    "from sklearn.metrics import mean_squared_error, r2_score\n",
    "# The mean sequare error\n",
    "mean_squared_error(y_test, pred)"
   ]
  },
  {
   "cell_type": "code",
   "execution_count": 66,
   "id": "219104a7",
   "metadata": {},
   "outputs": [
    {
     "data": {
      "text/plain": [
       "0.855924523215172"
      ]
     },
     "execution_count": 66,
     "metadata": {},
     "output_type": "execute_result"
    }
   ],
   "source": [
    "# The Coefficient of determination\n",
    "r2_score(y_test, pred)"
   ]
  },
  {
   "cell_type": "code",
   "execution_count": 57,
   "id": "10a29ad1",
   "metadata": {},
   "outputs": [
    {
     "data": {
      "text/plain": [
       "-0.5273809354121315"
      ]
     },
     "execution_count": 57,
     "metadata": {},
     "output_type": "execute_result"
    }
   ],
   "source": [
    "# The Intercept\n",
    "lin.intercept_"
   ]
  },
  {
   "cell_type": "code",
   "execution_count": null,
   "id": "883f0907",
   "metadata": {
    "scrolled": false
   },
   "outputs": [],
   "source": []
  },
  {
   "cell_type": "code",
   "execution_count": null,
   "id": "80d85ed9",
   "metadata": {},
   "outputs": [],
   "source": []
  }
 ],
 "metadata": {
  "kernelspec": {
   "display_name": "Python 3",
   "language": "python",
   "name": "python3"
  },
  "language_info": {
   "codemirror_mode": {
    "name": "ipython",
    "version": 3
   },
   "file_extension": ".py",
   "mimetype": "text/x-python",
   "name": "python",
   "nbconvert_exporter": "python",
   "pygments_lexer": "ipython3",
   "version": "3.8.8"
  }
 },
 "nbformat": 4,
 "nbformat_minor": 5
}
